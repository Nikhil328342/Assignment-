{
 "cells": [
  {
   "cell_type": "code",
   "execution_count": null,
   "id": "08299077",
   "metadata": {},
   "outputs": [],
   "source": [
    "# Q 1. Write a Python script to compare two numbers and print whether the first is greater."
   ]
  },
  {
   "cell_type": "code",
   "execution_count": 3,
   "id": "38b27fa7",
   "metadata": {},
   "outputs": [
    {
     "data": {
      "text/plain": [
       "True"
      ]
     },
     "execution_count": 3,
     "metadata": {},
     "output_type": "execute_result"
    }
   ],
   "source": [
    "5 > 3"
   ]
  },
  {
   "cell_type": "code",
   "execution_count": null,
   "id": "9b31a794",
   "metadata": {},
   "outputs": [],
   "source": [
    "# Q 2. Check if a given number is between 10 and 50. "
   ]
  },
  {
   "cell_type": "code",
   "execution_count": 5,
   "id": "9cede747",
   "metadata": {},
   "outputs": [
    {
     "data": {
      "text/plain": [
       "True"
      ]
     },
     "execution_count": 5,
     "metadata": {},
     "output_type": "execute_result"
    }
   ],
   "source": [
    "50 >= 20 >= 10"
   ]
  },
  {
   "cell_type": "code",
   "execution_count": null,
   "id": "d8f1335b",
   "metadata": {},
   "outputs": [],
   "source": [
    "# Q 3. Write a program that checks if a number is positive and even using logical and. "
   ]
  },
  {
   "cell_type": "code",
   "execution_count": 7,
   "id": "e6597182",
   "metadata": {},
   "outputs": [
    {
     "data": {
      "text/plain": [
       "True"
      ]
     },
     "execution_count": 7,
     "metadata": {},
     "output_type": "execute_result"
    }
   ],
   "source": [
    "3 < 5 and 3 > 1"
   ]
  },
  {
   "cell_type": "code",
   "execution_count": null,
   "id": "714329e7",
   "metadata": {},
   "outputs": [],
   "source": [
    "# Q 4. Given two strings, check if either string is empty using logical or. "
   ]
  },
  {
   "cell_type": "code",
   "execution_count": 9,
   "id": "884b946c",
   "metadata": {},
   "outputs": [],
   "source": [
    "a = \"Nikhil\"\n",
    "b = \"\""
   ]
  },
  {
   "cell_type": "code",
   "execution_count": 10,
   "id": "f23cd5d4",
   "metadata": {},
   "outputs": [
    {
     "data": {
      "text/plain": [
       "True"
      ]
     },
     "execution_count": 10,
     "metadata": {},
     "output_type": "execute_result"
    }
   ],
   "source": [
    "bool(a)"
   ]
  },
  {
   "cell_type": "code",
   "execution_count": 11,
   "id": "2f6f1b95",
   "metadata": {},
   "outputs": [
    {
     "data": {
      "text/plain": [
       "False"
      ]
     },
     "execution_count": 11,
     "metadata": {},
     "output_type": "execute_result"
    }
   ],
   "source": [
    "bool(b)"
   ]
  },
  {
   "cell_type": "code",
   "execution_count": 12,
   "id": "0ed8ac7c",
   "metadata": {},
   "outputs": [
    {
     "data": {
      "text/plain": [
       "True"
      ]
     },
     "execution_count": 12,
     "metadata": {},
     "output_type": "execute_result"
    }
   ],
   "source": [
    "bool(a) or bool(b)"
   ]
  },
  {
   "cell_type": "code",
   "execution_count": null,
   "id": "096da1bf",
   "metadata": {},
   "outputs": [],
   "source": [
    "# Q 5. Use not to flip a boolean variable and print its new value."
   ]
  },
  {
   "cell_type": "code",
   "execution_count": 14,
   "id": "1277d06c",
   "metadata": {},
   "outputs": [
    {
     "data": {
      "text/plain": [
       "True"
      ]
     },
     "execution_count": 14,
     "metadata": {},
     "output_type": "execute_result"
    }
   ],
   "source": [
    "True and False or True and not False"
   ]
  },
  {
   "cell_type": "code",
   "execution_count": null,
   "id": "7e300ea7",
   "metadata": {},
   "outputs": [],
   "source": [
    "# Q 6. Evaluate and explain: 5 > 3 and 2 < 4"
   ]
  },
  {
   "cell_type": "code",
   "execution_count": 17,
   "id": "bf4a5795",
   "metadata": {},
   "outputs": [
    {
     "data": {
      "text/plain": [
       "True"
      ]
     },
     "execution_count": 17,
     "metadata": {},
     "output_type": "execute_result"
    }
   ],
   "source": [
    "5 > 3 and 2 < 4"
   ]
  },
  {
   "cell_type": "code",
   "execution_count": 18,
   "id": "cf1a3ec8",
   "metadata": {},
   "outputs": [],
   "source": [
    "# 5 is greater than 3 and 2 is lesser than 4."
   ]
  },
  {
   "cell_type": "code",
   "execution_count": 19,
   "id": "05ca2f9a",
   "metadata": {},
   "outputs": [],
   "source": [
    "# Q 7. Determine the output: not (3 == 3 or 4 > 5)"
   ]
  },
  {
   "cell_type": "code",
   "execution_count": 20,
   "id": "04c56fec",
   "metadata": {},
   "outputs": [
    {
     "data": {
      "text/plain": [
       "False"
      ]
     },
     "execution_count": 20,
     "metadata": {},
     "output_type": "execute_result"
    }
   ],
   "source": [
    "not (3 == 3 or 4 > 5)"
   ]
  },
  {
   "cell_type": "code",
   "execution_count": 21,
   "id": "ddc54d4e",
   "metadata": {},
   "outputs": [],
   "source": [
    "# Q 8. Write a program to check if a variable is None using is. "
   ]
  },
  {
   "cell_type": "code",
   "execution_count": 24,
   "id": "dbf2bd24",
   "metadata": {},
   "outputs": [],
   "source": [
    "a = \"\""
   ]
  },
  {
   "cell_type": "code",
   "execution_count": 25,
   "id": "e12d0d6c",
   "metadata": {},
   "outputs": [
    {
     "data": {
      "text/plain": [
       "False"
      ]
     },
     "execution_count": 25,
     "metadata": {},
     "output_type": "execute_result"
    }
   ],
   "source": [
    "a is None"
   ]
  },
  {
   "cell_type": "code",
   "execution_count": 26,
   "id": "447f65b5",
   "metadata": {},
   "outputs": [],
   "source": [
    "# Q 9. Check if two variables point to the same object using is. "
   ]
  },
  {
   "cell_type": "code",
   "execution_count": 27,
   "id": "5c6d92fc",
   "metadata": {},
   "outputs": [],
   "source": [
    "a = 100\n",
    "b = 100"
   ]
  },
  {
   "cell_type": "code",
   "execution_count": 28,
   "id": "9e4e43bc",
   "metadata": {},
   "outputs": [
    {
     "data": {
      "text/plain": [
       "True"
      ]
     },
     "execution_count": 28,
     "metadata": {},
     "output_type": "execute_result"
    }
   ],
   "source": [
    "bool(a) is bool(b)"
   ]
  },
  {
   "cell_type": "code",
   "execution_count": 29,
   "id": "5b6792a9",
   "metadata": {},
   "outputs": [],
   "source": [
    "# Q10. Create two identical lists and compare them using == and is."
   ]
  },
  {
   "cell_type": "code",
   "execution_count": 30,
   "id": "7874f4d3",
   "metadata": {},
   "outputs": [],
   "source": [
    "a = [4,5,6]\n",
    "b = [4,5,6]"
   ]
  },
  {
   "cell_type": "code",
   "execution_count": 31,
   "id": "e32be433",
   "metadata": {},
   "outputs": [
    {
     "data": {
      "text/plain": [
       "True"
      ]
     },
     "execution_count": 31,
     "metadata": {},
     "output_type": "execute_result"
    }
   ],
   "source": [
    "a == b"
   ]
  },
  {
   "cell_type": "code",
   "execution_count": 33,
   "id": "ecb90fef",
   "metadata": {},
   "outputs": [
    {
     "data": {
      "text/plain": [
       "True"
      ]
     },
     "execution_count": 33,
     "metadata": {},
     "output_type": "execute_result"
    }
   ],
   "source": [
    "bool(a) is bool(b)"
   ]
  },
  {
   "cell_type": "code",
   "execution_count": 32,
   "id": "91da4d04",
   "metadata": {},
   "outputs": [
    {
     "data": {
      "text/plain": [
       "False"
      ]
     },
     "execution_count": 32,
     "metadata": {},
     "output_type": "execute_result"
    }
   ],
   "source": [
    "a is b"
   ]
  },
  {
   "cell_type": "code",
   "execution_count": 34,
   "id": "35141d0e",
   "metadata": {},
   "outputs": [],
   "source": [
    "# Q 11. What will be the result of True and not False or False and True? Break down its \n",
    "# precedence. "
   ]
  },
  {
   "cell_type": "code",
   "execution_count": 35,
   "id": "90953d0b",
   "metadata": {},
   "outputs": [
    {
     "data": {
      "text/plain": [
       "True"
      ]
     },
     "execution_count": 35,
     "metadata": {},
     "output_type": "execute_result"
    }
   ],
   "source": [
    "True and not False or False and True"
   ]
  },
  {
   "cell_type": "code",
   "execution_count": 36,
   "id": "b09c1623",
   "metadata": {},
   "outputs": [],
   "source": [
    "# not False = True \n",
    "# True and True or False and True\n",
    "# True or False\n",
    "# True"
   ]
  },
  {
   "cell_type": "code",
   "execution_count": 37,
   "id": "287f1fc2",
   "metadata": {},
   "outputs": [],
   "source": [
    "# Q 12. Write a function that returns True if a value is falsy. "
   ]
  },
  {
   "cell_type": "code",
   "execution_count": 39,
   "id": "9de96162",
   "metadata": {},
   "outputs": [],
   "source": [
    "a = [7,8,5]\n",
    "b = [7,8,5]"
   ]
  },
  {
   "cell_type": "code",
   "execution_count": 41,
   "id": "f4628cc2",
   "metadata": {},
   "outputs": [
    {
     "data": {
      "text/plain": [
       "True"
      ]
     },
     "execution_count": 41,
     "metadata": {},
     "output_type": "execute_result"
    }
   ],
   "source": [
    "a is b"
   ]
  },
  {
   "cell_type": "code",
   "execution_count": 42,
   "id": "5ffb7525",
   "metadata": {},
   "outputs": [
    {
     "data": {
      "text/plain": [
       "False"
      ]
     },
     "execution_count": 42,
     "metadata": {},
     "output_type": "execute_result"
    }
   ],
   "source": [
    "id(a) is id(b)"
   ]
  },
  {
   "cell_type": "code",
   "execution_count": 43,
   "id": "8c296698",
   "metadata": {},
   "outputs": [],
   "source": [
    "# Q 13. Implement a condition to check if a string is not empty and contains the word \"Python\". "
   ]
  },
  {
   "cell_type": "code",
   "execution_count": 44,
   "id": "4d9f2ea8",
   "metadata": {},
   "outputs": [],
   "source": [
    "u = \"Python\""
   ]
  },
  {
   "cell_type": "code",
   "execution_count": 47,
   "id": "b9ef451c",
   "metadata": {},
   "outputs": [
    {
     "name": "stdout",
     "output_type": "stream",
     "text": [
      "Python\n"
     ]
    }
   ],
   "source": [
    "u is None\n",
    "print(u)"
   ]
  },
  {
   "cell_type": "code",
   "execution_count": 46,
   "id": "5c0f2180",
   "metadata": {},
   "outputs": [
    {
     "data": {
      "text/plain": [
       "'Python'"
      ]
     },
     "execution_count": 46,
     "metadata": {},
     "output_type": "execute_result"
    }
   ],
   "source": [
    "u"
   ]
  },
  {
   "cell_type": "code",
   "execution_count": 48,
   "id": "47e7c2fb",
   "metadata": {},
   "outputs": [],
   "source": [
    "# Q 14. Create a truth table for A and B or not A with all possible combinations. "
   ]
  },
  {
   "cell_type": "code",
   "execution_count": 49,
   "id": "a6f032d9",
   "metadata": {},
   "outputs": [],
   "source": [
    "A = True\n",
    "B = False"
   ]
  },
  {
   "cell_type": "code",
   "execution_count": 50,
   "id": "1c4a4c27",
   "metadata": {},
   "outputs": [],
   "source": [
    "#    A     and      B       or   not A          Result\n",
    "#  True           False         False           False\n",
    "#    1              1            0               1\n",
    "#    1               0            0              0\n",
    "#    0              1             1               1\n",
    "#    0              0             1               1"
   ]
  },
  {
   "cell_type": "code",
   "execution_count": 51,
   "id": "f388fb13",
   "metadata": {},
   "outputs": [],
   "source": [
    "# Q 15. Compare identity and equality with numbers and strings — explain when they behave \n",
    "#        differently"
   ]
  },
  {
   "cell_type": "code",
   "execution_count": 61,
   "id": "f0ca44ba",
   "metadata": {},
   "outputs": [],
   "source": [
    "a = 10\n",
    "b = 10"
   ]
  },
  {
   "cell_type": "code",
   "execution_count": null,
   "id": "07ab7931",
   "metadata": {},
   "outputs": [
    {
     "data": {
      "text/plain": [
       "True"
      ]
     },
     "execution_count": 62,
     "metadata": {},
     "output_type": "execute_result"
    }
   ],
   "source": [
    "a == b"
   ]
  },
  {
   "cell_type": "code",
   "execution_count": 65,
   "id": "566d75c9",
   "metadata": {},
   "outputs": [
    {
     "data": {
      "text/plain": [
       "True"
      ]
     },
     "execution_count": 65,
     "metadata": {},
     "output_type": "execute_result"
    }
   ],
   "source": [
    "id(a) == id(b)"
   ]
  },
  {
   "cell_type": "code",
   "execution_count": 66,
   "id": "8b35e58f",
   "metadata": {},
   "outputs": [],
   "source": [
    "a = [4,5,6]\n",
    "b = [4,5,6]"
   ]
  },
  {
   "cell_type": "code",
   "execution_count": 67,
   "id": "b2e94693",
   "metadata": {},
   "outputs": [
    {
     "data": {
      "text/plain": [
       "True"
      ]
     },
     "execution_count": 67,
     "metadata": {},
     "output_type": "execute_result"
    }
   ],
   "source": [
    "a == b"
   ]
  },
  {
   "cell_type": "code",
   "execution_count": 68,
   "id": "4e3f5238",
   "metadata": {},
   "outputs": [
    {
     "data": {
      "text/plain": [
       "False"
      ]
     },
     "execution_count": 68,
     "metadata": {},
     "output_type": "execute_result"
    }
   ],
   "source": [
    "id(a) == id(b)"
   ]
  },
  {
   "cell_type": "code",
   "execution_count": 69,
   "id": "1fe05aff",
   "metadata": {},
   "outputs": [
    {
     "data": {
      "text/plain": [
       "False"
      ]
     },
     "execution_count": 69,
     "metadata": {},
     "output_type": "execute_result"
    }
   ],
   "source": [
    "id(a) is id(b)"
   ]
  },
  {
   "cell_type": "code",
   "execution_count": 70,
   "id": "e765dcf6",
   "metadata": {},
   "outputs": [],
   "source": [
    "# Q 16. Write a function that checks if a list is empty without using len(). "
   ]
  },
  {
   "cell_type": "code",
   "execution_count": 71,
   "id": "f28e5225",
   "metadata": {},
   "outputs": [],
   "source": [
    "a = []"
   ]
  },
  {
   "cell_type": "code",
   "execution_count": 72,
   "id": "44e9abc3",
   "metadata": {},
   "outputs": [
    {
     "data": {
      "text/plain": [
       "False"
      ]
     },
     "execution_count": 72,
     "metadata": {},
     "output_type": "execute_result"
    }
   ],
   "source": [
    "bool(a)"
   ]
  },
  {
   "cell_type": "code",
   "execution_count": null,
   "id": "8b51c9f2",
   "metadata": {},
   "outputs": [],
   "source": [
    "# Q 17. Evaluate: None == False, None is False, [] == [], [] is [] and explain.  "
   ]
  },
  {
   "cell_type": "code",
   "execution_count": 77,
   "id": "0fb64755",
   "metadata": {},
   "outputs": [
    {
     "data": {
      "text/plain": [
       "(False, False, True, False)"
      ]
     },
     "execution_count": 77,
     "metadata": {},
     "output_type": "execute_result"
    }
   ],
   "source": [
    "None == False, None is False, [] == [], [] is []"
   ]
  },
  {
   "cell_type": "code",
   "execution_count": 78,
   "id": "6ad7ef9c",
   "metadata": {},
   "outputs": [
    {
     "data": {
      "text/plain": [
       "False"
      ]
     },
     "execution_count": 78,
     "metadata": {},
     "output_type": "execute_result"
    }
   ],
   "source": [
    "None == False"
   ]
  },
  {
   "cell_type": "code",
   "execution_count": 79,
   "id": "d1d35137",
   "metadata": {},
   "outputs": [
    {
     "data": {
      "text/plain": [
       "False"
      ]
     },
     "execution_count": 79,
     "metadata": {},
     "output_type": "execute_result"
    }
   ],
   "source": [
    "None is False"
   ]
  },
  {
   "cell_type": "code",
   "execution_count": 80,
   "id": "c128f515",
   "metadata": {},
   "outputs": [],
   "source": [
    "a = []\n",
    "b = []"
   ]
  },
  {
   "cell_type": "code",
   "execution_count": 81,
   "id": "81172982",
   "metadata": {},
   "outputs": [
    {
     "data": {
      "text/plain": [
       "True"
      ]
     },
     "execution_count": 81,
     "metadata": {},
     "output_type": "execute_result"
    }
   ],
   "source": [
    "a == b"
   ]
  },
  {
   "cell_type": "code",
   "execution_count": 82,
   "id": "e0bf82b9",
   "metadata": {},
   "outputs": [
    {
     "data": {
      "text/plain": [
       "False"
      ]
     },
     "execution_count": 82,
     "metadata": {},
     "output_type": "execute_result"
    }
   ],
   "source": [
    "a is b"
   ]
  },
  {
   "cell_type": "code",
   "execution_count": null,
   "id": "4ca9f644",
   "metadata": {},
   "outputs": [],
   "source": [
    "# Q 18. Make a calculator that returns result only if all inputs are truthy; else returns 'Invalid \n",
    "#       Input'. "
   ]
  },
  {
   "cell_type": "code",
   "execution_count": 84,
   "id": "8992dcbc",
   "metadata": {},
   "outputs": [
    {
     "name": "stdout",
     "output_type": "stream",
     "text": [
      "Invalid Syngtax\n"
     ]
    }
   ],
   "source": [
    "a = int(input())\n",
    "b = int(input())\n",
    "if a >= b :\n",
    "    print(10)\n",
    "else :\n",
    "    print(\"Invalid Syngtax\")"
   ]
  },
  {
   "cell_type": "code",
   "execution_count": 87,
   "id": "08f7e324",
   "metadata": {},
   "outputs": [],
   "source": [
    "# Q 19. Compare how not (x and y) differs from not x or not y using DeMorgan's Laws."
   ]
  },
  {
   "cell_type": "code",
   "execution_count": 88,
   "id": "ba31ac63",
   "metadata": {},
   "outputs": [],
   "source": [
    "\n",
    "# IF x = True and Y = False then not(x and y) is True \n",
    "# and not x or not y is True"
   ]
  },
  {
   "cell_type": "code",
   "execution_count": null,
   "id": "18a5fcd6",
   "metadata": {},
   "outputs": [],
   "source": []
  }
 ],
 "metadata": {
  "kernelspec": {
   "display_name": "base",
   "language": "python",
   "name": "python3"
  },
  "language_info": {
   "codemirror_mode": {
    "name": "ipython",
    "version": 3
   },
   "file_extension": ".py",
   "mimetype": "text/x-python",
   "name": "python",
   "nbconvert_exporter": "python",
   "pygments_lexer": "ipython3",
   "version": "3.12.7"
  }
 },
 "nbformat": 4,
 "nbformat_minor": 5
}
